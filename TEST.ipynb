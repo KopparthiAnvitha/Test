{
 "cells": [
  {
   "cell_type": "code",
   "execution_count": 10,
   "id": "0b217217",
   "metadata": {},
   "outputs": [
    {
     "name": "stdout",
     "output_type": "stream",
     "text": [
      "[2, 1]\n"
     ]
    }
   ],
   "source": [
    "from collections import deque\n",
    "import heapq\n",
    "from bisect import bisect_left, bisect_right\n",
    "\n",
    "# 1. Equipment Rental Availability (Graph - BFS)\n",
    "def find_shortest_path(n, edges, availability, start_provider, target_equipment):\n",
    "    graph = {i: [] for i in range(1, n + 1)}\n",
    "    for a, b in edges:\n",
    "        graph[a].append(b)\n",
    "        graph[b].append(a)\n",
    "    \n",
    "    queue = deque([(start_provider, [start_provider])])\n",
    "    visited = set([start_provider])\n",
    "    \n",
    "    while queue:\n",
    "        provider, path = queue.popleft()\n",
    "        if target_equipment in availability.get(provider, []):\n",
    "            return path\n",
    "        \n",
    "        for neighbor in graph[provider]:\n",
    "            if neighbor not in visited:\n",
    "                visited.add(neighbor)\n",
    "                queue.append((neighbor, path + [neighbor]))\n",
    "    \n",
    "    return -1\n",
    "\n",
    "n = 5\n",
    "edges = [(1, 2), (2, 3), (3, 4), (4, 5)]\n",
    "availability = {1: [\"excavator\"], 2: [], 3: [\"bulldozer\"], 4: [\"excavator\"], 5: [\"crane\"]}\n",
    "start_provider = 2\n",
    "target_equipment = \"excavator\"\n",
    "print(find_shortest_path(n, edges, availability, start_provider, target_equipment))"
   ]
  },
  {
   "cell_type": "code",
   "execution_count": 11,
   "id": "4c170621",
   "metadata": {},
   "outputs": [
    {
     "name": "stdout",
     "output_type": "stream",
     "text": [
      "[45000, 68000]\n"
     ]
    }
   ],
   "source": [
    "# 2. Optimal Equipment Deal Matching (Heap / Priority Queue)\n",
    "def find_best_prices(requests, sellers):\n",
    "    equipment_prices = {}\n",
    "    \n",
    "    for eq, price in sellers:\n",
    "        if eq not in equipment_prices:\n",
    "            equipment_prices[eq] = []\n",
    "        heapq.heappush(equipment_prices[eq], price)\n",
    "    \n",
    "    result = []\n",
    "    for eq, max_price in requests:\n",
    "        if eq in equipment_prices:\n",
    "            while equipment_prices[eq] and equipment_prices[eq][0] > max_price:\n",
    "                heapq.heappop(equipment_prices[eq])\n",
    "            result.append(equipment_prices[eq][0] if equipment_prices[eq] else None)\n",
    "        else:\n",
    "            result.append(None)\n",
    "    \n",
    "    return result\n",
    "\n",
    "requests = [(\"excavator\", 50000), (\"bulldozer\", 70000)]\n",
    "sellers = [(\"excavator\", 45000), (\"bulldozer\", 68000), (\"excavator\", 48000)]\n",
    "print(find_best_prices(requests, sellers))"
   ]
  },
  {
   "cell_type": "code",
   "execution_count": 13,
   "id": "12c15816",
   "metadata": {},
   "outputs": [
    {
     "name": "stdout",
     "output_type": "stream",
     "text": [
      "[800, 1500]\n"
     ]
    }
   ],
   "source": [
    "# 3. Maintenance Log Analysis (Segment Tree)\n",
    "class SegmentTree:\n",
    "    def __init__(self, values):\n",
    "        self.n = len(values)\n",
    "        self.tree = [0] * (2 * self.n)\n",
    "        for i in range(self.n):\n",
    "            self.tree[self.n + i] = values[i]\n",
    "        for i in range(self.n - 1, 0, -1):\n",
    "            self.tree[i] = self.tree[2 * i] + self.tree[2 * i + 1]\n",
    "    \n",
    "    def query(self, left, right):\n",
    "        left += self.n\n",
    "        right += self.n\n",
    "        total = 0\n",
    "        while left < right:\n",
    "            if left % 2:\n",
    "                total += self.tree[left]\n",
    "                left += 1\n",
    "            if right % 2:\n",
    "                right -= 1\n",
    "                total += self.tree[right]\n",
    "            left //= 2\n",
    "            right //= 2\n",
    "        return total\n",
    "\n",
    "def process_maintenance_queries(maintenance_logs, queries):\n",
    "    date_to_index = {date: i for i, date in enumerate(sorted(set(log[1] for log in maintenance_logs)))}\n",
    "    costs = [0] * len(date_to_index)\n",
    "    \n",
    "    for eid, date, cost in maintenance_logs:\n",
    "        costs[date_to_index[date]] += cost\n",
    "    \n",
    "    segment_tree = SegmentTree(costs)\n",
    "    \n",
    "    results = []\n",
    "    for start_date, end_date in queries:\n",
    "        l, r = bisect_left(list(date_to_index.keys()), start_date), bisect_right(list(date_to_index.keys()), end_date)\n",
    "        results.append(segment_tree.query(l, r))\n",
    "    \n",
    "    return results\n",
    "\n",
    "maintenance_logs = [(101, \"2024-01-01\", 500), (102, \"2024-01-10\", 300), (101, \"2024-01-15\", 700)]\n",
    "queries = [(\"2024-01-01\", \"2024-01-10\"), (\"2024-01-01\", \"2024-01-15\")]\n",
    "print(process_maintenance_queries(maintenance_logs, queries))"
   ]
  }
 ],
 "metadata": {
  "kernelspec": {
   "display_name": "Python 3 (ipykernel)",
   "language": "python",
   "name": "python3"
  },
  "language_info": {
   "codemirror_mode": {
    "name": "ipython",
    "version": 3
   },
   "file_extension": ".py",
   "mimetype": "text/x-python",
   "name": "python",
   "nbconvert_exporter": "python",
   "pygments_lexer": "ipython3",
   "version": "3.9.12"
  }
 },
 "nbformat": 4,
 "nbformat_minor": 5
}
